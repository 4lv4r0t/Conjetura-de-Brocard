{
 "cells": [
  {
   "cell_type": "markdown",
   "id": "a5666dba-c34c-4e1f-a973-b3aee3e572b3",
   "metadata": {},
   "source": [
    "# Conjetura de Brocard\n",
    "\n",
    "### Introducción:\n",
    "La conjetura de brocard es un problema de teoría de números el cual dice que dados 2 números primos consecutivos P<sub>n</sub> y P<sub>n+1</sub>, si se elevan al cuadrado siendo n>=2 la conjetura nos dice que va a haber por lo menos 4 números primos en ese intervalo.\n",
    "Se cree que la conjetura es cierta mas sin embargo no se ha hecho alguna demostración.\n",
    "\n",
    "### Objetivos\n",
    "En este proyecto se tiene como objetivo crear un programa que pruebe sucesivamente los casos de la conjetura de Brocard, no con el propósito de demostrar su veracidad sino de poner a prueba a ver hasta que ínice 'n' se cumple esta conjetura. Adicionalmente a la herramienta, se explicará la lógica que se usó para construir el programa, desde una perspectiva matemática y no en cuanto a estética u opciones que no infieren en el funcionamiento principal del programa.\n",
    "\n",
    "---\n",
    "\n",
    "### 1. Preparación del entorno del script:\n",
    "Para que el programa funcione correctamente se deben importar algunas librerías tanto propias de python como externas, así como declarar variables globales y algunas funciones para que el usuario interactúe a nivel de consola. Cabe aclarar que este programa fue diseñado específicamente para ser ejecutado por consola y recibir argumentos por ese medio, por lo que si bien se tratará de adaptar algunas cosas para mostrar a efectos prácticos el algoritmo en jupyter, pero sin dejar de lado el enfoque de que el programa es diseñado para consola.\n",
    "\n",
    "En la primera línea usamos un [shebang](https://en.wikipedia.org/wiki/Shebang_(Unix)), básicamente facilita su uso en sistemas Unix. Posteriormente importamos algunas librerías, siendo [pwntools](https://docs.pwntools.com/en/stable/) y [colorama](https://pypi.org/project/colorama/) librerías que no están dentro de las librerías por defecto de python, se tendrían que instalar con **'pip install $nombre_de_la_librería'**. Podríamos separar las librerías en 2 grupos, las que son meramente para cuestiones estéticas (colorama y os) y las que ayudan a el funcionamiento del programa en cuanto a interacción con el usuario (sys, signal y time), en un punto medio se encuentra la librería 'pwntools'.\n",
    "\n",
    "Con la función def_handler y las librerías 'sys' y 'signal' definimos una salida más 'limpia' del programa al momento de detenerlo usando Ctrl+c.\n",
    "\n",
    "Definimos algunas variables globales, la más importante es la lista de los primos que inicializamos con los 3 primeros primos (2, 3 y 5) esto por practicidad para el programa ya que como dice la conjetura de Brocard, aplica para primos con ínice mayor o igual a 2. La otras variables globales son para representar colores con facilidad posteriormente, para esto usamos la librería 'colorama'.\n",
    "\n",
    "Por último definimos una función para limpiar la pantalla al momento de ejecutar el script, está implementado para funcionar tanto en sistemas Windows como en sistemas Unix, para esto utilizamos la librería 'os'."
   ]
  },
  {
   "cell_type": "code",
   "execution_count": 2,
   "id": "f2f3ef1a-be1a-4b46-9f6e-2ac0186de62d",
   "metadata": {},
   "outputs": [],
   "source": [
    "#!/usr/bin/env python3\n",
    "\n",
    "\"\"\"\n",
    "Hecho por: Alvaro Camilo Torres\n",
    "Institución: Universidad Nacional de Colombia\n",
    "Materia: Matemáticas Discretas\n",
    "\"\"\"\n",
    "from pwn import *\n",
    "from colorama import Fore, Style\n",
    "import sys, signal, time, os\n",
    "\n",
    "def def_handler(sig, frame):\n",
    "    print(f\"\\n\\n[{rojo}!{reset}] {rojo}Saliendo...{reset}\\n\")\n",
    "    sys.exit(1)\n",
    "\n",
    "# Ctrl + C\n",
    "signal.signal(signal.SIGINT, def_handler)\n",
    "\n",
    "# Variables globales\n",
    "primos = [2, 3, 5] # La lista de primos se inicializa con los 3 primeros primos para que funcione el programa\n",
    "\n",
    "#Colores\n",
    "amarillo = Fore.YELLOW\n",
    "azul = Fore.BLUE\n",
    "rojo = Fore.RED\n",
    "verde = Fore.GREEN\n",
    "reset = Style.RESET_ALL # Resetea el color de la consola\n",
    "\n",
    "# Detecta el sistema operativo para limpiar la pantalla\n",
    "def limpiar_pantalla():\n",
    "    if os.name == 'nt':\n",
    "        os.system('cls')\n",
    "    else:\n",
    "        os.system('clear')"
   ]
  },
  {
   "cell_type": "markdown",
   "id": "bfaf5b05-36ed-460a-b229-ba8e7cee9fc2",
   "metadata": {},
   "source": [
    "### 2. Hallar primos:\n",
    "Es una de las funciones 'nucleo' del programa, la función recibe 2 argumentos, el número a probar si es primo o no, y la lista de números primos que declaramos arriba. Su funcionamiento consiste en suponer que el número es primo e ir iterando por la lista de primos que tenemos definida, si el módulo del número con algún primo de la lista de primos da cero, se dice que el número no es primo (por definición que solo es divisible por 1 y él mismo, y que un número se puede expresar en términos de números primos) y se devuelve el valor que niega que sea primo en una variable 'es_primo' que definimos más arriba como verdadera. La función deja de iterar cuando el primo a probar supera el valor de la raiz cuadrada del número a probar, esto debido a que ese va a ser el máximo divisor que pueda tener ese número y probar con los siguientes sería innecesario.\n",
    "\n",
    "Se puede intuir al leer el código que esta función es inútil si la lista de primos es muy limitada en comparación al número al que queremos hacerle la prueba, y la razón de esto es que esta función solo será útil en conjunto de otras funciones que la tienen como argumento."
   ]
  },
  {
   "cell_type": "code",
   "execution_count": 3,
   "id": "fd30dbe8-6e59-42b8-8a5b-72e1fd7d2d16",
   "metadata": {},
   "outputs": [],
   "source": [
    "# Indica si un número es primo o no\n",
    "def hallar_primos(número, primos):\n",
    "    es_primo = True\n",
    "    for j in primos:\n",
    "        if j > int(número**0.5) + 1:\n",
    "            break\n",
    "        elif número % j == 0:\n",
    "            es_primo = False\n",
    "            break\n",
    "    return es_primo"
   ]
  },
  {
   "cell_type": "markdown",
   "id": "82d9ff38-2bb0-4857-a589-740faf6b615e",
   "metadata": {},
   "source": [
    "### 3. Evaluar conjetura de Brocard:\n",
    "Otra de las funciones 'nucleo', y esta en particular es la que va a definir toda la lógica del programa. Recibe 3 argumentos, la lista de primos, el índice 'n' a evaluar y la función 'hallar_primos'.\n",
    "\n",
    "En esta función solucionamos el problema que teníamos de la función 'hallar_primos' que la lista se quedaba corta. Como primera funcionalidad que tiene el programa es que si el ínice 'n' a probar es más grande que la longitud de la lista de primos menos 2 (para que funcione el programa necesitamos el n siguiente), entonces hasta que deje de ser más grande se hallan primos con la función hallar primos, de 1 en 1 desde el primo número 3 que es el último que tenemos definido en nuestra lista global.\n",
    "\n",
    "Manejamos de manera global 3 variables, el valor de P<sub>n</sub><sup>2</sup>, P<sub>n+1</sub><sup>2</sup> y los primos que están entre esos valores, esto para futura representación.\n",
    "\n",
    "Ya que tenemos que hallar los primos intermedios, en nuestrá lista de primos de tenemos que tener como mínimo hasta que los primos sean más grandes que el límite superior del intervalo que queremos evaluar, para esto empleamos una lógica similar a la que usamos cuando el índice 'n' era más grande que los primos que teníamos en la lista, solo que ahora prueba números 1 en 1 desde el último primo hasta el límite superior con la función 'hallar_primos'. Por último se ingresan los primos intermedios en una lista iterando por todo el intervalo que vamos a evaluar y revisando si el número está en nuestra lista de primos."
   ]
  },
  {
   "cell_type": "code",
   "execution_count": 5,
   "id": "c5cb82db-8717-41a9-8271-af97218d46ae",
   "metadata": {},
   "outputs": [],
   "source": [
    "# Encuentra los primos entre P_n^2 y P_(n+1)^2\n",
    "def brocard(primos, n, hallar_primos):\n",
    "    \n",
    "    global tope_superior, tope_inferior, intermedios\n",
    "    i = 1\n",
    "\n",
    "    while True:\n",
    "        if n > len(primos) - 2:\n",
    "            if hallar_primos(primos[2] + i, primos):\n",
    "                primos.append(primos[2] + i)\n",
    "            i += 1\n",
    "        else:\n",
    "            break\n",
    "\n",
    "    tope_superior = primos[n + 1] ** 2\n",
    "    tope_inferior = primos[n] ** 2\n",
    "    intermedios = []\n",
    "   \n",
    "\n",
    "    if tope_superior > primos[-1]:\n",
    "        for num in range(primos[-1] + 1, tope_superior + 1):\n",
    "            if hallar_primos(num, primos):\n",
    "                primos.append(num)\n",
    "\n",
    "    intermedios = [str(i) for i in range(tope_inferior, tope_superior + 1) if i in primos]"
   ]
  },
  {
   "cell_type": "markdown",
   "id": "0c42bf59-99b5-447e-b9c9-052bd4fcdb8c",
   "metadata": {},
   "source": [
    "### 4. Funcionalidades del programa:\n",
    "Ya con las funciones que definen nuestra lógica del lado del usuario vamos a usar esta lógica para representar la conjetura de Brocard. La primera funcionalidad que definimos es la más lógica para representar el problema, una función que va representando la conjetura incrementando progresivamente el índice 'n' infinitamente. Esto simplemente consiste en hacer la función brocard en bucle infinito incrementando 'n' de 1 en 1. La demás parte del código simplemente infiere en la representación gráfica por consola\n",
    "\n",
    "La segunda funcionalidad está enfocada a representar la conjetura de Brocard indicando por consola el índice 'n' para el cual queremos probar."
   ]
  },
  {
   "cell_type": "code",
   "execution_count": 6,
   "id": "8b45f4a9-dcd0-4b39-9f28-a3107071aaef",
   "metadata": {},
   "outputs": [],
   "source": [
    "# Evalúa la conjetura de Brocard incrementando el ínice n infinitamente\n",
    "def brocard_infinito(primos, hallar_primos, brocard, velocidad):\n",
    "    proc1 = log.progress(\"\")\n",
    "    proc1.status(\"Iniciando prueba a la conjetura de Brocard\")\n",
    "       \n",
    "    if '-v' in sys.argv or '--verbose' in sys.argv:\n",
    "        proc2 = log.progress(\"\")\n",
    "        proc2.status(\"Listando primos entre P_n^2 y P_(n+1)^2\")\n",
    "    n = 1\n",
    "\n",
    "    time.sleep(2)\n",
    "   \n",
    "    while True:\n",
    "        brocard(primos, n, hallar_primos)\n",
    "        if len(intermedios) < 4:\n",
    "            log.info(f\" Se ha encontrado una excepción al problema de brocard con el primo {azul}{primos[n]}{reset} donde entre {azul}{primos[n]**2}{reset} y {azul}{primos[n+1]**2}{reset} no hay 4 primos\")\n",
    "            break\n",
    "        else:\n",
    "            proc1.status(f\"Para {amarillo}P_{n}{reset} = {azul}{primos[n]}{reset}, entre {azul}{tope_inferior}{reset} y {azul}{tope_superior}{reset} se encontraron {verde}{len(intermedios)}{reset} primos\")\n",
    "            n += 1\n",
    "        if '-v' in sys.argv or '--verbose' in sys.argv:\n",
    "            proc2.status(f\"Los primos encontrados son: {azul}{(reset +', ' + azul).join(intermedios)}{reset}\")\n",
    "\n",
    "        if velocidad == 1:\n",
    "            time.sleep(2)\n",
    "        elif velocidad == 2:\n",
    "            time.sleep(1)\n",
    "        elif velocidad == 3:\n",
    "            time.sleep(0.5)        \n",
    "\n",
    "# Evalúa la conjetura de Brocard para un ínice 'n' en particular\n",
    "def brocard_individual(primos, hallar_primos, brocard, n):\n",
    "   \n",
    "    brocard(primos, n, hallar_primos)\n",
    "    \n",
    "    log.info(f\"Para {amarillo}P_{n}{reset} = {azul}{primos[int(n)]}{reset}, entre {azul}{tope_inferior}{reset} y {azul}{tope_superior}{reset} se encontraron {verde}{len(intermedios)}{reset} primos\")\n",
    "    if '-v' in sys.argv or '--verbose' in sys.argv:\n",
    "        log.info(f\"Los primos encontrados son: {azul}{(reset +', ' + azul).join(intermedios)}\")"
   ]
  },
  {
   "cell_type": "markdown",
   "id": "da92c79d-59f2-429a-90b4-73bb5ff26fa9",
   "metadata": {},
   "source": [
    "### 5. Uso del programa:\n",
    "El enfoque del programa es de uso por consola, por lo que está configurado para recibir argumentos por consola, estos ejecutan las diferentes funcionalidades implementadas en el programa y las pueden configurar dándoles diferentes argumentos. Por esta razón el programa puede no correr en este notebook y lo ideal sería importar las librerías y correrlo en local.\n",
    "En cuanto al estilo del programa y su uso, me basé en scripts de python que funcionan como herramientas de ciberseguridad (personalmente me gusta mucho esa área de la informática), donde casi por convención se suelen usar argumentos por consola para ejecutarlos, así como otros aspectos de estilo."
   ]
  },
  {
   "cell_type": "code",
   "execution_count": 7,
   "id": "92aa674f-30fa-497b-992d-e49bb78ecd7c",
   "metadata": {},
   "outputs": [],
   "source": [
    "# Muestra las instrucciones del programa por consola\n",
    "def panel_ayuda():\n",
    "    print(f\"\"\"\\n\\n[{verde}+{reset}] Modo de uso:\n",
    "\n",
    "        python3 brocard.py [{amarillo}opciones{reset}] [{amarillo}argumentos{reset}]\n",
    "\n",
    "[{verde}+{reset}] Ejemplos:\n",
    "\n",
    "        python3 brocard.py -h\n",
    "        python3 brocard.py -i 3\n",
    "        python3 brocard.py -n 100\n",
    "\n",
    "[{verde}+{reset}] Opciones:\n",
    "\n",
    "        {amarillo}-h{reset}, {amarillo}--help{reset}                  Muestra este panel de ayuda\n",
    "\n",
    "        {amarillo}-i{reset}, {amarillo}--infinite{reset} {azul}speed{reset}        Prueba la conjetura de Brocard infinitamente hasta que pare el programa.\n",
    "                                    Como argumento puede recibir un entero del 1-4 para representar velocidad, siendo 1 la más lenta y 4 la más rápida(por defecto)\n",
    "\n",
    "        {amarillo}-n{reset}, {amarillo}--index{reset} {azul}int{reset}             Prueba el programa con un índice n en específico    \n",
    "        {amarillo}-v{reset}, {amarillo}--verbose{reset}               Muestra los primos entre el intervalo P_n^2 y P_(n+1)^2\n",
    "        \"\"\")"
   ]
  },
  {
   "cell_type": "markdown",
   "id": "adc51da9-3b73-498f-8485-fb1548aa31ff",
   "metadata": {},
   "source": [
    "### 6. Ejecución:\n",
    "Al ejecutarse el script por defecto lanzará el panel de ayuda para ver las distintas opciones de uso y dependiento de los argumentos que se le suministren por consola el programá se comportará de forma diferente. El condicional que hace referencia al main es en caso de que alguien quiera usar las funciones definidas en el programa pueda importar el script como módulo sin que se ejecute el programa principal, básicamente solo funciona si se ejecuta directamente y no como módulo, esto para darle un enfoque modular al código. Por último para efectos visuales en el notebook añadiré la ejecución de brocard_individual(importar pwntools y colorama para ver funcionamiento)."
   ]
  },
  {
   "cell_type": "code",
   "execution_count": 8,
   "id": "819935bb-aa13-4c70-8243-0187dd780f83",
   "metadata": {
    "scrolled": true
   },
   "outputs": [
    {
     "name": "stdout",
     "output_type": "stream",
     "text": [
      "\u001b[H\u001b[2J\u001b[32m ______                                               __  _                  \n",
      "|_   _ \\                                             |  ]| |                 \n",
      "  | |_) | _ .--.   .--.   .---.  ,--.   _ .--.   .--.| | \\_|.--.             \n",
      "  |  __'.[ `/'`\\]/ .'`\\ \\/ /'`\\]`'_\\ : [ `/'`\\]/ /' \\  |   ( (`\\]            \n",
      " _| |__) || |    | \\__. || \\__. // | |, | |    | \\__/  |    `'.'.            \n",
      "|_______/[___]    '.__.' '.___.'\\ -;__/[___]    '.__.;__]  [\\__) )           \n",
      "                                _                _                           \n",
      "                               (_)              / |_                         \n",
      "    .---.   .--.   _ .--.      __  .---.  .---.`| |-'__   _   _ .--.  .---.  \n",
      "   / /'`\\]/ .'`\\ \\[ `.-. |    [  |/ /__ \\/ /'`\\]| | [  | | | [ `/'`\\]/ /__ \\ \n",
      "   | \\__. | \\__. | | | | |  _  | || \\__.,| \\__. | |, | \\_/ |, | |    | \\__., \n",
      "   '.___.' '.__.' [___||__][ \\_| | '.__.''.___.'\\__/ '.__.'_/[___]    '.__.' \n",
      "                            \\____/                                           \u001b[0m\n",
      "\n",
      "[*] Para \u001b[33mP_5\u001b[0m = \u001b[34m13\u001b[0m, entre \u001b[34m169\u001b[0m y \u001b[34m289\u001b[0m se encontraron \u001b[32m22\u001b[0m primos\n",
      "[x] \n",
      "[x] Iniciando prueba a la conjetura de Brocard\n",
      "[x] Para \u001b[33mP_1\u001b[0m = \u001b[34m3\u001b[0m, entre \u001b[34m9\u001b[0m y \u001b[34m25\u001b[0m se encontraron \u001b[32m5\u001b[0m primos\n",
      "[x] Para \u001b[33mP_2\u001b[0m = \u001b[34m5\u001b[0m, entre \u001b[34m25\u001b[0m y \u001b[34m49\u001b[0m se encontraron \u001b[32m6\u001b[0m primos\n",
      "[x] Para \u001b[33mP_3\u001b[0m = \u001b[34m7\u001b[0m, entre \u001b[34m49\u001b[0m y \u001b[34m121\u001b[0m se encontraron \u001b[32m15\u001b[0m primos\n",
      "[x] Para \u001b[33mP_4\u001b[0m = \u001b[34m11\u001b[0m, entre \u001b[34m121\u001b[0m y \u001b[34m169\u001b[0m se encontraron \u001b[32m9\u001b[0m primos\n",
      "[x] Para \u001b[33mP_5\u001b[0m = \u001b[34m13\u001b[0m, entre \u001b[34m169\u001b[0m y \u001b[34m289\u001b[0m se encontraron \u001b[32m22\u001b[0m primos\n"
     ]
    },
    {
     "ename": "KeyboardInterrupt",
     "evalue": "",
     "output_type": "error",
     "traceback": [
      "\u001b[0;31m---------------------------------------------------------------------------\u001b[0m",
      "\u001b[0;31mKeyboardInterrupt\u001b[0m                         Traceback (most recent call last)",
      "Cell \u001b[0;32mIn[8], line 37\u001b[0m\n\u001b[1;32m     35\u001b[0m brocard_individual(primos, hallar_primos, brocard, \u001b[38;5;241m5\u001b[39m) \u001b[38;5;66;03m# Ejemplo para n=5\u001b[39;00m\n\u001b[1;32m     36\u001b[0m time\u001b[38;5;241m.\u001b[39msleep(\u001b[38;5;241m3\u001b[39m)\n\u001b[0;32m---> 37\u001b[0m \u001b[43mbrocard_infinito\u001b[49m\u001b[43m(\u001b[49m\u001b[43mprimos\u001b[49m\u001b[43m,\u001b[49m\u001b[43m \u001b[49m\u001b[43mhallar_primos\u001b[49m\u001b[43m,\u001b[49m\u001b[43m \u001b[49m\u001b[43mbrocard\u001b[49m\u001b[43m,\u001b[49m\u001b[43m \u001b[49m\u001b[38;5;241;43m1\u001b[39;49m\u001b[43m)\u001b[49m\n",
      "Cell \u001b[0;32mIn[6], line 25\u001b[0m, in \u001b[0;36mbrocard_infinito\u001b[0;34m(primos, hallar_primos, brocard, velocidad)\u001b[0m\n\u001b[1;32m     22\u001b[0m     proc2\u001b[38;5;241m.\u001b[39mstatus(\u001b[38;5;124mf\u001b[39m\u001b[38;5;124m\"\u001b[39m\u001b[38;5;124mLos primos encontrados son: \u001b[39m\u001b[38;5;132;01m{\u001b[39;00mazul\u001b[38;5;132;01m}\u001b[39;00m\u001b[38;5;132;01m{\u001b[39;00m(reset\u001b[38;5;250m \u001b[39m\u001b[38;5;241m+\u001b[39m\u001b[38;5;124m'\u001b[39m\u001b[38;5;124m, \u001b[39m\u001b[38;5;124m'\u001b[39m\u001b[38;5;250m \u001b[39m\u001b[38;5;241m+\u001b[39m\u001b[38;5;250m \u001b[39mazul)\u001b[38;5;241m.\u001b[39mjoin(intermedios)\u001b[38;5;132;01m}\u001b[39;00m\u001b[38;5;132;01m{\u001b[39;00mreset\u001b[38;5;132;01m}\u001b[39;00m\u001b[38;5;124m\"\u001b[39m)\n\u001b[1;32m     24\u001b[0m \u001b[38;5;28;01mif\u001b[39;00m velocidad \u001b[38;5;241m==\u001b[39m \u001b[38;5;241m1\u001b[39m:\n\u001b[0;32m---> 25\u001b[0m     \u001b[43mtime\u001b[49m\u001b[38;5;241;43m.\u001b[39;49m\u001b[43msleep\u001b[49m\u001b[43m(\u001b[49m\u001b[38;5;241;43m2\u001b[39;49m\u001b[43m)\u001b[49m\n\u001b[1;32m     26\u001b[0m \u001b[38;5;28;01melif\u001b[39;00m velocidad \u001b[38;5;241m==\u001b[39m \u001b[38;5;241m2\u001b[39m:\n\u001b[1;32m     27\u001b[0m     time\u001b[38;5;241m.\u001b[39msleep(\u001b[38;5;241m1\u001b[39m)\n",
      "\u001b[0;31mKeyboardInterrupt\u001b[0m: "
     ]
    }
   ],
   "source": [
    "if __name__ == '__main__': # Si se ejecuta el script directamente\n",
    "    \n",
    "    limpiar_pantalla()\n",
    "    print(f\"\"\"{verde} ______                                               __  _                  \n",
    "|_   _ \\                                             |  ]| |                 \n",
    "  | |_) | _ .--.   .--.   .---.  ,--.   _ .--.   .--.| | \\_|.--.             \n",
    "  |  __'.[ `/'`\\]/ .'`\\ \\/ /'`\\]`'_\\ : [ `/'`\\]/ /' \\  |   ( (`\\]            \n",
    " _| |__) || |    | \\__. || \\__. // | |, | |    | \\__/  |    `'.'.            \n",
    "|_______/[___]    '.__.' '.___.'\\ -;__/[___]    '.__.;__]  [\\__) )           \n",
    "                                _                _                           \n",
    "                               (_)              / |_                         \n",
    "    .---.   .--.   _ .--.      __  .---.  .---.`| |-'__   _   _ .--.  .---.  \n",
    "   / /'`\\]/ .'`\\ \\[ `.-. |    [  |/ /__ \\/ /'`\\]| | [  | | | [ `/'`\\]/ /__ \\ \n",
    "   | \\__. | \\__. | | | | |  _  | || \\__.,| \\__. | |, | \\_/ |, | |    | \\__., \n",
    "   '.___.' '.__.' [___||__][ \\_| | '.__.''.___.'\\__/ '.__.'_/[___]    '.__.' \n",
    "                            \\____/                                           {reset}\\n\"\"\")\n",
    "\n",
    "    if len(sys.argv) == 1 or '-h' in sys.argv or '--help' in sys.argv:\n",
    "\n",
    "        panel_ayuda()\n",
    "\n",
    "    elif sys.argv[1] == '-i' or sys.argv[1] == '--infinite':\n",
    "        try:\n",
    "            brocard_infinito(primos, hallar_primos, brocard, 4 if len(sys.argv) == 2 or (('-v' in sys.argv or '--verbose' in sys.argv) and len(sys.argv) == 3) else int(sys.argv[2]))\n",
    "        except ValueError:\n",
    "            panel_ayuda()\n",
    "    \n",
    "    elif sys.argv[1] == '-n' or sys.argv[1] == '--index':\n",
    "        try:\n",
    "            brocard_individual(primos, hallar_primos, brocard, int(sys.argv[2]))\n",
    "        except ValueError:\n",
    "            panel_ayuda()\n",
    "\n",
    "    # Exclusivo para este notebook:\n",
    "    brocard_individual(primos, hallar_primos, brocard, 5) # Ejemplo para n=5\n",
    "    time.sleep(3)\n",
    "    brocard_infinito(primos, hallar_primos, brocard, 1)"
   ]
  },
  {
   "cell_type": "markdown",
   "id": "4a90bb90-44a6-4844-90ff-64126683ca6d",
   "metadata": {},
   "source": [
    "### Código a futuro:\n",
    "Dado a que se diseño el código con una estructura modular, está abierto a mejoras posteriores al código. El código está público en mi repositorio de Github [aquí](https://github.com/4lv4r0t/Conjetura-de-Brocard), es free software por lo que cualquiera es libre de realizar sus propias modificaciones al mismo."
   ]
  },
  {
   "cell_type": "markdown",
   "id": "cc1dc55a-9def-4389-b6a0-91fb67bcc2ea",
   "metadata": {},
   "source": [
    "### Información de verisón y hardware:\n",
    "Python implementation: CPython\n",
    "\n",
    "Python version       : 3.12.2\n",
    "\n",
    "IPython version      : 8.21.0\n",
    "\n",
    "\n",
    "OS: Arch Linux x86_64 \n",
    "\n",
    "Host: VivoBook_ASUSLaptop X421IAY_M413IA 1.0 \n",
    "\n",
    "Kernel: 6.6.7-arch1-1 \n",
    "\n",
    "Shell: zsh 5.9 \n",
    "\n",
    "Terminal: kitty \n",
    "\n",
    "CPU: AMD Ryzen 5 4500U with Radeon Graphics (6) @ 2.375GHz \n",
    "\n",
    "GPU: AMD ATI Radeon RX Vega 6 \n",
    "\n",
    "Memory: 4343MiB / 7357MiB "
   ]
  },
  {
   "cell_type": "markdown",
   "id": "fec070c0-dd0b-45d5-a5c8-7491d52c0c7e",
   "metadata": {},
   "source": [
    "---\n",
    "**Autor:** Alvaro Camilo Torres Rodríguez\n",
    "\n",
    "**Institución:** Universidad Nacional de Colombia"
   ]
  }
 ],
 "metadata": {
  "kernelspec": {
   "display_name": "Python 3 (ipykernel)",
   "language": "python",
   "name": "python3"
  },
  "language_info": {
   "codemirror_mode": {
    "name": "ipython",
    "version": 3
   },
   "file_extension": ".py",
   "mimetype": "text/x-python",
   "name": "python",
   "nbconvert_exporter": "python",
   "pygments_lexer": "ipython3",
   "version": "3.11.6"
  }
 },
 "nbformat": 4,
 "nbformat_minor": 5
}
